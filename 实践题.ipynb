{
 "cells": [
  {
   "cell_type": "markdown",
   "metadata": {},
   "source": [
    "### 3.实践题"
   ]
  },
  {
   "cell_type": "markdown",
   "metadata": {},
   "source": [
    "#### In this practical part, you will build a simple digits recognizer to check if the digit in the image is larger than 5. This assignmnet will guide you step by step to finish your first small project in this course ."
   ]
  },
  {
   "cell_type": "markdown",
   "metadata": {},
   "source": [
    "#### 1 - Packages  \n",
    "sklearn is a famous package for machine learning.   \n",
    "matplotlib is a common package for vasualization."
   ]
  },
  {
   "cell_type": "code",
   "execution_count": 179,
   "metadata": {},
   "outputs": [],
   "source": [
    "from sklearn import datasets\n",
    "import matplotlib.pyplot as plt\n",
    "from sklearn.model_selection import train_test_split\n",
    "import math\n",
    "import random"
   ]
  },
  {
   "cell_type": "markdown",
   "metadata": {},
   "source": [
    "#### 2 - Overvie of the dataset  \n",
    "    - a training set has m_train images labeled as 0 if the digit < 5 or 1 if the digit >= 5\n",
    "    - a test set contains m_test images labels as if the digit < 5 or 1 if the digit >= 5\n",
    "    - eah image if of shape (num_px, num_px ). Thus, each image is square(height=num_px and  width = num_px)"
   ]
  },
  {
   "cell_type": "code",
   "execution_count": 146,
   "metadata": {},
   "outputs": [],
   "source": [
    "# Loading the data \n",
    "#加载digits手写字体数据集\n",
    "digits = datasets.load_digits()"
   ]
  },
  {
   "cell_type": "code",
   "execution_count": 147,
   "metadata": {},
   "outputs": [
    {
     "data": {
      "text/plain": [
       "dict_keys(['data', 'target', 'target_names', 'images', 'DESCR'])"
      ]
     },
     "execution_count": 147,
     "metadata": {},
     "output_type": "execute_result"
    }
   ],
   "source": [
    "digits.keys()"
   ]
  },
  {
   "cell_type": "code",
   "execution_count": 148,
   "metadata": {},
   "outputs": [
    {
     "data": {
      "text/plain": [
       "array([0, 1, 2, ..., 8, 9, 8])"
      ]
     },
     "execution_count": 148,
     "metadata": {},
     "output_type": "execute_result"
    }
   ],
   "source": [
    "\n",
    "digits.target"
   ]
  },
  {
   "cell_type": "code",
   "execution_count": 149,
   "metadata": {},
   "outputs": [
    {
     "data": {
      "image/png": "[encoded data removed]",
      "text/plain": [
       "<Figure size 432x288 with 15 Axes>"
      ]
     },
     "metadata": {},
     "output_type": "display_data"
    }
   ],
   "source": [
    "# Vilizating the data\n",
    "#魔法函数，内嵌绘图，可省略plt.show\n",
    "%matplotlib inline  \n",
    "for i in range(1,16):\n",
    "    plt.subplot(3,5,i) #绘制i子图\n",
    "    plt.imshow(digits.data[i-1].reshape([8,8]),cmap=plt.cm.gray_r)#灰度图\n",
    "    plt.text(3,9,str(digits.target[i-1])) #文本注释的位置、内容\n",
    "    plt.xticks([])#坐标标签为空\n",
    "    plt.yticks([])#坐标标签为空\n",
    "#plt.show()"
   ]
  },
  {
   "cell_type": "code",
   "execution_count": 150,
   "metadata": {},
   "outputs": [],
   "source": [
    "# Split the data into training set and test set \n",
    "X_train, X_test, y_train, y_test = train_test_split(digits.data, digits.target, test_size=0.25)"
   ]
  },
  {
   "cell_type": "code",
   "execution_count": 151,
   "metadata": {},
   "outputs": [
    {
     "data": {
      "text/plain": [
       "(array([[ 0.,  0.,  4., ...,  7.,  0.,  0.],\n",
       "        [ 0.,  0.,  0., ..., 16., 16., 16.],\n",
       "        [ 0.,  0.,  0., ...,  0.,  0.,  0.],\n",
       "        ...,\n",
       "        [ 0.,  0.,  9., ...,  1.,  0.,  0.],\n",
       "        [ 0.,  0.,  1., ..., 14.,  7.,  0.],\n",
       "        [ 0.,  0.,  0., ...,  7.,  0.,  0.]]),\n",
       " array([[ 0.,  0.,  7., ..., 10., 14.,  0.],\n",
       "        [ 0.,  3., 16., ...,  0.,  0.,  0.],\n",
       "        [ 0.,  0.,  2., ...,  1.,  0.,  0.],\n",
       "        ...,\n",
       "        [ 0.,  0.,  3., ...,  7.,  0.,  0.],\n",
       "        [ 0.,  0., 11., ..., 14.,  8.,  0.],\n",
       "        [ 0.,  0.,  1., ...,  0.,  0.,  0.]]),\n",
       " array([6, 1, 4, ..., 9, 6, 4]),\n",
       " array([2, 3, 8, 6, 2, 6, 5, 4, 0, 1, 3, 0, 1, 3, 0, 3, 2, 7, 4, 0, 2, 6,\n",
       "        4, 2, 5, 9, 2, 6, 2, 3, 0, 6, 2, 7, 1, 0, 6, 0, 8, 3, 0, 5, 6, 9,\n",
       "        0, 5, 1, 3, 3, 5, 5, 3, 0, 3, 4, 1, 1, 5, 3, 0, 7, 9, 8, 5, 9, 1,\n",
       "        1, 1, 9, 9, 2, 1, 1, 3, 5, 5, 7, 6, 5, 5, 6, 5, 8, 9, 1, 0, 5, 9,\n",
       "        4, 2, 7, 8, 7, 6, 2, 8, 0, 4, 7, 2, 5, 3, 2, 8, 2, 4, 0, 6, 8, 1,\n",
       "        1, 8, 1, 0, 2, 2, 6, 7, 3, 4, 9, 9, 4, 1, 4, 2, 6, 2, 1, 7, 6, 1,\n",
       "        8, 9, 8, 4, 2, 9, 0, 0, 1, 6, 5, 7, 7, 6, 3, 9, 5, 6, 9, 9, 0, 3,\n",
       "        5, 5, 5, 3, 7, 4, 2, 1, 8, 2, 4, 5, 6, 9, 6, 2, 8, 2, 3, 2, 3, 7,\n",
       "        9, 3, 4, 6, 2, 8, 1, 8, 3, 5, 8, 8, 5, 6, 5, 6, 6, 8, 4, 8, 6, 8,\n",
       "        6, 3, 4, 3, 1, 6, 0, 7, 9, 0, 3, 5, 8, 9, 1, 6, 0, 3, 2, 9, 2, 5,\n",
       "        1, 4, 0, 3, 7, 8, 3, 3, 6, 2, 1, 6, 9, 4, 2, 3, 9, 6, 8, 2, 1, 6,\n",
       "        8, 1, 8, 7, 0, 6, 0, 4, 7, 1, 2, 1, 8, 6, 3, 8, 8, 9, 6, 4, 7, 5,\n",
       "        0, 8, 9, 9, 8, 1, 6, 8, 3, 2, 4, 9, 9, 2, 8, 2, 4, 1, 2, 1, 5, 0,\n",
       "        6, 2, 2, 9, 4, 8, 4, 1, 7, 5, 8, 4, 9, 8, 7, 0, 6, 4, 8, 5, 4, 5,\n",
       "        4, 9, 7, 6, 5, 2, 9, 6, 8, 1, 3, 8, 7, 5, 7, 4, 0, 4, 2, 8, 5, 4,\n",
       "        5, 9, 0, 6, 1, 1, 9, 9, 5, 7, 4, 5, 2, 9, 9, 9, 4, 4, 7, 5, 9, 4,\n",
       "        2, 4, 3, 6, 3, 6, 2, 8, 5, 0, 0, 1, 9, 8, 1, 5, 3, 2, 8, 1, 9, 9,\n",
       "        7, 5, 5, 5, 1, 9, 9, 9, 7, 9, 6, 7, 4, 6, 8, 7, 6, 5, 8, 2, 9, 8,\n",
       "        9, 7, 4, 4, 1, 2, 6, 9, 8, 3, 4, 5, 2, 5, 4, 6, 5, 7, 8, 8, 2, 6,\n",
       "        6, 7, 8, 1, 3, 0, 7, 5, 9, 9, 3, 8, 8, 8, 3, 4, 5, 1, 4, 5, 2, 4,\n",
       "        0, 3, 8, 4, 5, 6, 0, 0, 2, 4]),\n",
       " (1347, 64),\n",
       " (450, 64),\n",
       " 1347,\n",
       " 450)"
      ]
     },
     "execution_count": 151,
     "metadata": {},
     "output_type": "execute_result"
    }
   ],
   "source": [
    "X_train, X_test, y_train, y_test,X_train.shape,X_test.shape,len(y_train),len(y_test)"
   ]
  },
  {
   "cell_type": "code",
   "execution_count": 152,
   "metadata": {},
   "outputs": [],
   "source": [
    "# reformulate the label. \n",
    "# If the digit is smaller than 5, the label is 0.\n",
    "# If the digit is larger than 5, the label is 1.\n",
    "\n",
    "y_train[y_train < 5 ] = 0\n",
    "y_train[y_train >= 5] = 1\n",
    "y_test[y_test < 5] = 0\n",
    "y_test[y_test >= 5] = 1 #数组格式"
   ]
  },
  {
   "cell_type": "code",
   "execution_count": 153,
   "metadata": {},
   "outputs": [
    {
     "name": "stdout",
     "output_type": "stream",
     "text": [
      "(1347, 64)\n",
      "(450, 64)\n",
      "(1347,)\n",
      "(450,)\n"
     ]
    }
   ],
   "source": [
    "print(X_train.shape)\n",
    "print(X_test.shape)\n",
    "print(y_train.shape)\n",
    "print(y_test.shape)"
   ]
  },
  {
   "cell_type": "markdown",
   "metadata": {},
   "source": [
    "#### 3- Architecture of the neural network"
   ]
  },
  {
   "cell_type": "markdown",
   "metadata": {},
   "source": [
    "![title](./networks.png)"
   ]
  },
  {
   "cell_type": "markdown",
   "metadata": {},
   "source": [
    "##### Mathematical expression of the algorithm:"
   ]
  },
  {
   "cell_type": "markdown",
   "metadata": {},
   "source": [
    "For one example $x^{(i)}$:   \n",
    " $$ z^{(i)} = w^T * x^{(i)} +b $$   \n",
    " $$ y^{(i)} = a^{(i)} = sigmoid(z^{(i)})$$   \n",
    " $$L(a^{(i)},y^{(i)}) = -y^{(i)} log(a^{(i)})-(1-y^{(i)})log(1-a^{(i)})$$"
   ]
  },
  {
   "cell_type": "markdown",
   "metadata": {},
   "source": [
    "The total cost over all training examples:\n",
    "$$ J = \\frac{1}{m}\\sum_{i=1}^{m}L(a^{(i)},y^{(i)}) $$"
   ]
  },
  {
   "cell_type": "markdown",
   "metadata": {},
   "source": [
    "#### 4 - Building the algorithm"
   ]
  },
  {
   "cell_type": "markdown",
   "metadata": {},
   "source": [
    "##### 4.1- Activation function    \n",
    "###### Exercise:\n",
    "Finish the sigmoid funciton "
   ]
  },
  {
   "cell_type": "code",
   "execution_count": 154,
   "metadata": {},
   "outputs": [],
   "source": [
    "def sigmoid(z):\n",
    "    '''\n",
    "    Compute the sigmoid of z\n",
    "    Arguments: z -- a scalar or numpy array of any size.\n",
    "    \n",
    "    Return:\n",
    "    s -- sigmoid(z)\n",
    "    '''\n",
    "    s = 1/(1 + np.exp(-1 * z))\n",
    "    \n",
    "    return s"
   ]
  },
  {
   "cell_type": "code",
   "execution_count": 155,
   "metadata": {},
   "outputs": [
    {
     "name": "stdout",
     "output_type": "stream",
     "text": [
      "sigmoid([0,2]) = [0.5        0.88079708]\n"
     ]
    }
   ],
   "source": [
    "### Test your code \n",
    "# The result should be [0.5 0.88079708]\n",
    "print(\"sigmoid([0,2]) = \" + str(sigmoid(np.array([0,2]))))"
   ]
  },
  {
   "cell_type": "markdown",
   "metadata": {},
   "source": [
    "##### 4.1-Initializaing parameters\n",
    "###### Exercise:\n",
    "Finishe the initialize_parameters function below"
   ]
  },
  {
   "cell_type": "code",
   "execution_count": 216,
   "metadata": {},
   "outputs": [],
   "source": [
    "# Random innitialize the parameters\n",
    "\n",
    "def initialize_parameters(dim):\n",
    "    '''\n",
    "    Argument: dim -- size of the w vector\n",
    "    \n",
    "    Returns:\n",
    "    w -- initialized vector of shape (dim,1)\n",
    "    b -- initialized scalar\n",
    "    '''\n",
    "    \n",
    "    w = np.random.randn(dim,1) #X.shape=(1347,64),X[i]表示第i个样本,X[i]为（1,64）\n",
    "    b = random.random()\n",
    "    \n",
    "    assert(w.shape == (dim,1))\n",
    "    assert(isinstance(b,float) or isinstance(b,int))\n",
    "    \n",
    "    return w,b"
   ]
  },
  {
   "cell_type": "markdown",
   "metadata": {},
   "source": [
    "#### 4.3-Forward and backward propagation"
   ]
  },
  {
   "cell_type": "markdown",
   "metadata": {},
   "source": [
    "###### Some mathematical expressions\n",
    "Forward Propagation:   \n",
    ". X    \n",
    ". A = $\\sigma(w^T*X+b) = (a^{(1)},a^{(2)},...,a^{(m)})$   \n",
    ". J = $-\\frac{1}{m} \\sum_{i=1}^{m}y^{(i)}log(a^{(i)})+(1-y^{(i)})log(1-a^{(i)})$       "
   ]
  },
  {
   "cell_type": "markdown",
   "metadata": {},
   "source": [
    "Some derivative: \n",
    "$$\\frac{\\partial{J}}{\\partial{w}} = \\frac{1}{m}X*(A-Y)^T$$   \n",
    "$$\\frac{\\partial{J}}{\\partial{b}} = \\frac{1}{m}\\sum_{i=1}^m(a^{(i)}-y^{(i)}) $$"
   ]
  },
  {
   "cell_type": "markdown",
   "metadata": {},
   "source": [
    "###### Exercise:\n",
    "Finish the function below:"
   ]
  },
  {
   "cell_type": "code",
   "execution_count": 330,
   "metadata": {},
   "outputs": [],
   "source": [
    "def propagate(w,b,X,Y):\n",
    "    '''\n",
    "    Implement the cost function and its gradient for the propagation\n",
    "    \n",
    "    Arguments:\n",
    "    w - weights\n",
    "    b - bias\n",
    "    X - data\n",
    "    Y - ground truth\n",
    "    '''\n",
    "    m = X.shape[0]\n",
    "    A = np.array([sigmoid(np.dot(X[i],w) + b) for i in range(m)]).reshape(m,-1)\n",
    "    cost = (sum([(Y[i]*math.log(A[i][0]+0.0000001) + (1-Y[i])*math.log(1-A[i][0]+0.0000001)) for i in range(m)]))/(-1*m)\n",
    "                \n",
    "    \n",
    "    \n",
    "    dw =( np.dot((np.array([(A[i][0]-Y[i]) for i in range(m)])),X)/m).reshape(-1,1) #(1,64)\n",
    "    db = sum([A[i]-Y[i] for i in range(m)])/m\n",
    "    \n",
    "    n=0\n",
    "    for i in range(len(A)):\n",
    "        if (A[i][0]-y_train[i])**2<0.0001:\n",
    "            n += 1\n",
    "    \n",
    "    training_accuracy = 100*n/len(y_train)\n",
    "    \n",
    "    assert(dw.shape == w.shape)\n",
    "    assert(db.dtype == float)\n",
    "    cost = np.squeeze(cost)\n",
    "    assert(cost.shape == ())\n",
    "    \n",
    "    grads = {'dw':dw,\n",
    "             'db':db}\n",
    "    return grads, cost,training_accuracy"
   ]
  },
  {
   "cell_type": "code",
   "execution_count": null,
   "metadata": {},
   "outputs": [],
   "source": []
  },
  {
   "cell_type": "markdown",
   "metadata": {},
   "source": [
    "##### 4.4 -Optimization"
   ]
  },
  {
   "cell_type": "markdown",
   "metadata": {},
   "source": [
    "###### Exercise:\n",
    "Minimizing the cost function using gradient descent.   \n",
    "$$\\theta = \\theta - \\alpha*d\\theta$$ where $\\alpha$ is the learning rate."
   ]
  },
  {
   "cell_type": "code",
   "execution_count": 335,
   "metadata": {},
   "outputs": [],
   "source": [
    "def optimize(w, b, X, Y, num_iterations, learning_rate, print_cost):\n",
    "    '''\n",
    "    This function optimize w and b by running a gradient descen algorithm\n",
    "    \n",
    "    Arguments:\n",
    "    w - weights\n",
    "    b - bias\n",
    "    X - data\n",
    "    Y - ground truth\n",
    "    num_iterations -- number of iterations of the optimization loop\n",
    "    learning_rate -- learning rate of the gradient descent update rule\n",
    "    print_cost -- True to print the loss every 100 steps\n",
    "    \n",
    "    Returns:\n",
    "    params - dictionary containing the weights w and bias b\n",
    "    grads -- dictionary containing the gradients of the weights and bias with respect to the cost function\n",
    "    costs -- list of all the costs computed during the optimization, this will be used to plot the learning curve.\n",
    "    \n",
    "    '''\n",
    "    \n",
    "    costs = []\n",
    "    costs_ = []\n",
    "    n=0\n",
    "    training_accuracy_ = []\n",
    "    \n",
    "    for i in range(num_iterations):\n",
    "        \n",
    "        #依据return值，对应赋值\n",
    "        grads, cost ,training_accuracy= propagate(w,b,X,Y) \n",
    "        \n",
    "        #reshape(1,-1)转化成1行：(2,-1)转换成两行：(-1,1)转换成1列：(-1,2)转化成两列\n",
    "        dw = grads['dw'].reshape(-1,1) \n",
    "        db = grads['db']\n",
    "        \n",
    "        w = w - learning_rate * dw\n",
    "        b = b - learning_rate * db\n",
    "        \n",
    "        if i % 100 == 0:\n",
    "            costs.append(cost)\n",
    "        if print_cost and i % 200 == 0:\n",
    "            print (\"Cost after iteration %i: %f\" %(i, cost))\n",
    "        costs_ .append(cost)\n",
    "        \n",
    "        training_accuracy_.append(training_accuracy)\n",
    "            \n",
    "    params = {\"w\":w,\n",
    "              \"b\":b}\n",
    "    \n",
    "    grads = {\"dw\":dw,\n",
    "             \"db\":db}\n",
    "    \n",
    "    return params, grads, costs,costs_, training_accuracy_"
   ]
  },
  {
   "cell_type": "markdown",
   "metadata": {},
   "source": [
    "###### Exercise\n",
    "The previous function will output the learned w and b. We are able to use w and b to predict the labels for a dataset X. Implement the predict() function.    \n",
    "Two steps to finish this task:   \n",
    "1. Calculate $\\hat{Y} = A = \\sigma(w^T*X+b)$   \n",
    "2. Convert the entries of a into 0 (if activation <= 0.5) or 1 (if activation > 0.5), stores the predictions in a vector Y_prediction. If you wish, you can use an if/else statement in a for loop (though there is also a way to vectorize this)."
   ]
  },
  {
   "cell_type": "code",
   "execution_count": 336,
   "metadata": {},
   "outputs": [],
   "source": [
    "def predict(w, b, X):\n",
    "    '''\n",
    "    Predict whether the label is 0 or 1 using learned logistic regression parameters (w, b)\n",
    "    \n",
    "    Arguments:\n",
    "    w -- weights\n",
    "    b -- bias \n",
    "    X -- data \n",
    "    \n",
    "    \n",
    "    Returns:\n",
    "    Y_prediction -- a numpy array (vector) containing all predictions (0/1) for the examples in X\n",
    "    '''\n",
    "    m = X.shape[0] #测试样本个数\n",
    "    Y_prediction = np.zeros((1,m))\n",
    "    w = w.reshape(1,X.shape[1])\n",
    "    \n",
    "    A = np.array([sigmoid(np.dot(w, X[i].reshape(-1,1)) + b) for i in range(m)]).reshape(m,-1)\n",
    "    \n",
    "    n=0\n",
    "    for i in range(A.shape[0]):\n",
    "        Y_prediction[0][i] = A[i][0] #注意reshape出来的格式\n",
    "        if (A[i][0]-y_test[i])**2<0.0001:\n",
    "            n += 1\n",
    "    test_accuracy =  100*n/len(y_test)\n",
    "    \n",
    "    assert(Y_prediction.shape == (1,m))\n",
    "    \n",
    "    return Y_prediction,test_accuracy"
   ]
  },
  {
   "cell_type": "markdown",
   "metadata": {},
   "source": [
    "##### 5- Merge all functions into a model"
   ]
  },
  {
   "cell_type": "markdown",
   "metadata": {},
   "source": [
    "Congratulations !! You have finished all the necessary components for constructing a model. Now, Let's take the challenge to merge all the implemented function into one model."
   ]
  },
  {
   "cell_type": "code",
   "execution_count": 380,
   "metadata": {},
   "outputs": [],
   "source": [
    "def model(X_train, Y_trein, X_test, Y_test, num_iterations, learning_rate,print_cost):\n",
    "    \"\"\"\n",
    "    Build the logistic regression model by calling all the functions you have implemented.\n",
    "    Arguments:\n",
    "    X_train - training set\n",
    "    Y_train - training label\n",
    "    X_test - test set\n",
    "    Y_test - test label\n",
    "    num_iteration - hyperparameter representing the number of iterations to optimize the parameters\n",
    "    learning_rate -- hyperparameter representing the learning rate used in the update rule of optimize()\n",
    "    print_cost -- Set to true to print the cost every 100 iterations\n",
    "    \n",
    "    Returns:\n",
    "    d - dictionary should contain following information w,b,training_accuracy, test_accuracy,cost\n",
    "    eg: d = {\"w\":w,\n",
    "             \"b\":b,\n",
    "             \"training_accuracy\": traing_accuracy,\n",
    "             \"test_accuracy\":test_accuracy,\n",
    "             \"cost\":cost}\n",
    "    \"\"\"\n",
    "\n",
    "    w,b = initialize_parameters(X_train.shape[1])\n",
    "    params, grads, costs, costs_,training_accuracy = optimize(w,b,X_train,y_train,num_iterations,learning_rate,print_cost)\n",
    "    Y_prediction,test_accuracy= predict(params[\"w\"],params[\"b\"],X_test)\n",
    "    \n",
    "    d = {}\n",
    "    d['w'] = w[-1]\n",
    "    d['b'] = b\n",
    "    d['training_accuracy'] = training_accuracy[-1]\n",
    "    d['test_accuracy'] = test_accuracy\n",
    "    d['cost'] = costs[-1]\n",
    "    \n",
    "    #绘制cost函数和训练准确度曲线\n",
    "    fig = plt.figure()\n",
    "    ax1 = fig.add_subplot(111)\n",
    "    x = list(range(len(costs_)))\n",
    "    ax1.plot(x,costs_,'g',label='cost')\n",
    "    ax1.legend(loc=2)\n",
    "    ax1.set_ylabel('cost')\n",
    "    ax2 = ax1.twinx()\n",
    "    ax2.plot(x,training_accuracy,'r',label='training_accuracy')\n",
    "    ax2.legend(loc=1)\n",
    "    ax2.set_ylabel('training_accuracy')\n",
    "    \n",
    "   \n",
    "   \n",
    "    return d"
   ]
  },
  {
   "cell_type": "markdown",
   "metadata": {},
   "source": [
    " - 为方便看结果，d中的w只输出最后一个值w[-1]"
   ]
  },
  {
   "cell_type": "code",
   "execution_count": 392,
   "metadata": {},
   "outputs": [
    {
     "name": "stdout",
     "output_type": "stream",
     "text": [
      "Cost after iteration 0: 8.169309\n",
      "Cost after iteration 200: 6.299869\n",
      "Cost after iteration 400: 5.293224\n",
      "Cost after iteration 600: 4.610884\n",
      "Cost after iteration 800: 4.013931\n"
     ]
    },
    {
     "data": {
      "text/plain": [
       "{'w': array([-0.91671218]),\n",
       " 'b': 0.96548048097509,\n",
       " 'training_accuracy': 56.347438752783965,\n",
       " 'test_accuracy': 56.22222222222222,\n",
       " 'cost': 3.7435679475031565}"
      ]
     },
     "execution_count": 392,
     "metadata": {},
     "output_type": "execute_result"
    },
    {
     "data": {
      "image/png": "[encoded data removed]",
      "text/plain": [
       "<Figure size 432x288 with 2 Axes>"
      ]
     },
     "metadata": {
      "needs_background": "light"
     },
     "output_type": "display_data"
    }
   ],
   "source": [
    "model(X_train, y_train, X_test, y_test, num_iterations=1000, learning_rate=0.001,print_cost=True)"
   ]
  },
  {
   "cell_type": "markdown",
   "metadata": {},
   "source": [
    "### 4.选做题"
   ]
  },
  {
   "cell_type": "markdown",
   "metadata": {},
   "source": [
    "Congratulations on building your first logistic regression model. It is your time to analyze it further."
   ]
  },
  {
   "cell_type": "markdown",
   "metadata": {},
   "source": [
    "##### 4.1 Observe the effect of learning rate on the leraning process.   \n",
    "Hits: plot the learning curve with different learning rate"
   ]
  },
  {
   "cell_type": "markdown",
   "metadata": {},
   "source": [
    "##### 4.2 Observe the effect of iteration_num on the test accuracy."
   ]
  },
  {
   "cell_type": "markdown",
   "metadata": {},
   "source": [
    "### 迭代次数相同，学习率0.001-->0.01"
   ]
  },
  {
   "cell_type": "code",
   "execution_count": 389,
   "metadata": {},
   "outputs": [
    {
     "name": "stdout",
     "output_type": "stream",
     "text": [
      "Cost after iteration 0: 7.512295\n",
      "Cost after iteration 200: 1.696959\n",
      "Cost after iteration 400: 1.103267\n",
      "Cost after iteration 600: 0.866654\n",
      "Cost after iteration 800: 0.751653\n"
     ]
    },
    {
     "data": {
      "text/plain": [
       "{'w': array([-0.5759562]),\n",
       " 'b': 0.8054504003016124,\n",
       " 'training_accuracy': 70.97253155159613,\n",
       " 'test_accuracy': 69.55555555555556,\n",
       " 'cost': 0.7104349849705531}"
      ]
     },
     "execution_count": 389,
     "metadata": {},
     "output_type": "execute_result"
    },
    {
     "data": {
      "image/png": "[encoded data removed]",
      "text/plain": [
       "<Figure size 432x288 with 2 Axes>"
      ]
     },
     "metadata": {
      "needs_background": "light"
     },
     "output_type": "display_data"
    }
   ],
   "source": [
    "model(X_train, y_train, X_test, y_test, num_iterations=1000, learning_rate=0.01,print_cost=True)"
   ]
  },
  {
   "cell_type": "markdown",
   "metadata": {},
   "source": [
    "### 学习率0.01，迭代次数1000-->[2000,3000]"
   ]
  },
  {
   "cell_type": "code",
   "execution_count": 384,
   "metadata": {},
   "outputs": [
    {
     "name": "stdout",
     "output_type": "stream",
     "text": [
      "Cost after iteration 0: 6.932474\n",
      "Cost after iteration 200: 1.745787\n",
      "Cost after iteration 400: 1.149458\n",
      "Cost after iteration 600: 0.909146\n",
      "Cost after iteration 800: 0.786070\n",
      "Cost after iteration 1000: 0.707759\n",
      "Cost after iteration 1200: 0.648077\n",
      "Cost after iteration 1400: 0.597066\n",
      "Cost after iteration 1600: 0.551426\n",
      "Cost after iteration 1800: 0.509647\n"
     ]
    },
    {
     "data": {
      "text/plain": [
       "{'w': array([-0.2559735]),\n",
       " 'b': 0.2551234140261702,\n",
       " 'training_accuracy': 64.81069042316258,\n",
       " 'test_accuracy': 66.88888888888889,\n",
       " 'cost': 0.4900312698278512}"
      ]
     },
     "execution_count": 384,
     "metadata": {},
     "output_type": "execute_result"
    },
    {
     "data": {
      "image/png": "[encoded data removed]",
      "text/plain": [
       "<Figure size 432x288 with 2 Axes>"
      ]
     },
     "metadata": {
      "needs_background": "light"
     },
     "output_type": "display_data"
    }
   ],
   "source": [
    "model(X_train, y_train, X_test, y_test, num_iterations=2000, learning_rate=0.01,print_cost=True)"
   ]
  },
  {
   "cell_type": "code",
   "execution_count": 385,
   "metadata": {},
   "outputs": [
    {
     "name": "stdout",
     "output_type": "stream",
     "text": [
      "Cost after iteration 0: 7.434418\n",
      "Cost after iteration 200: 1.980621\n",
      "Cost after iteration 400: 1.215101\n",
      "Cost after iteration 600: 0.886333\n",
      "Cost after iteration 800: 0.701644\n",
      "Cost after iteration 1000: 0.593484\n",
      "Cost after iteration 1200: 0.524897\n",
      "Cost after iteration 1400: 0.474764\n",
      "Cost after iteration 1600: 0.433788\n",
      "Cost after iteration 1800: 0.399537\n",
      "Cost after iteration 2000: 0.371191\n",
      "Cost after iteration 2200: 0.348280\n",
      "Cost after iteration 2400: 0.330244\n",
      "Cost after iteration 2600: 0.316315\n",
      "Cost after iteration 2800: 0.305634\n"
     ]
    },
    {
     "data": {
      "text/plain": [
       "{'w': array([0.2783071]),\n",
       " 'b': 0.31088743226122983,\n",
       " 'training_accuracy': 41.648106904231625,\n",
       " 'test_accuracy': 41.333333333333336,\n",
       " 'cost': 0.3012565094519477}"
      ]
     },
     "execution_count": 385,
     "metadata": {},
     "output_type": "execute_result"
    },
    {
     "data": {
      "image/png": "[encoded data removed]",
      "text/plain": [
       "<Figure size 432x288 with 2 Axes>"
      ]
     },
     "metadata": {
      "needs_background": "light"
     },
     "output_type": "display_data"
    }
   ],
   "source": [
    "model(X_train, y_train, X_test, y_test, num_iterations=3000, learning_rate=0.01,print_cost=True)"
   ]
  },
  {
   "cell_type": "markdown",
   "metadata": {},
   "source": [
    "### 学习率0.001，迭代次数1000-->[2000,3000]"
   ]
  },
  {
   "cell_type": "code",
   "execution_count": 386,
   "metadata": {},
   "outputs": [
    {
     "name": "stdout",
     "output_type": "stream",
     "text": [
      "Cost after iteration 0: 8.125317\n",
      "Cost after iteration 200: 6.509191\n",
      "Cost after iteration 400: 5.483683\n",
      "Cost after iteration 600: 4.352832\n",
      "Cost after iteration 800: 3.465550\n",
      "Cost after iteration 1000: 2.921113\n",
      "Cost after iteration 1200: 2.562692\n",
      "Cost after iteration 1400: 2.285532\n",
      "Cost after iteration 1600: 2.078529\n",
      "Cost after iteration 1800: 1.926632\n"
     ]
    },
    {
     "data": {
      "text/plain": [
       "{'w': array([-0.06736485]),\n",
       " 'b': 0.1254276302306664,\n",
       " 'training_accuracy': 68.0029695619896,\n",
       " 'test_accuracy': 70.66666666666667,\n",
       " 'cost': 1.8632024520510142}"
      ]
     },
     "execution_count": 386,
     "metadata": {},
     "output_type": "execute_result"
    },
    {
     "data": {
      "image/png": "[encoded data removed]",
      "text/plain": [
       "<Figure size 432x288 with 2 Axes>"
      ]
     },
     "metadata": {
      "needs_background": "light"
     },
     "output_type": "display_data"
    }
   ],
   "source": [
    "model(X_train, y_train, X_test, y_test, num_iterations=2000, learning_rate=0.001,print_cost=True)"
   ]
  },
  {
   "cell_type": "code",
   "execution_count": 387,
   "metadata": {},
   "outputs": [
    {
     "name": "stdout",
     "output_type": "stream",
     "text": [
      "Cost after iteration 0: 6.648505\n",
      "Cost after iteration 200: 5.582164\n",
      "Cost after iteration 400: 5.021283\n",
      "Cost after iteration 600: 4.428238\n",
      "Cost after iteration 800: 3.841186\n",
      "Cost after iteration 1000: 3.378706\n",
      "Cost after iteration 1200: 3.034143\n",
      "Cost after iteration 1400: 2.747664\n",
      "Cost after iteration 1600: 2.526202\n",
      "Cost after iteration 1800: 2.348025\n",
      "Cost after iteration 2000: 2.202575\n",
      "Cost after iteration 2200: 2.083131\n",
      "Cost after iteration 2400: 1.984194\n",
      "Cost after iteration 2600: 1.898828\n",
      "Cost after iteration 2800: 1.822932\n"
     ]
    },
    {
     "data": {
      "text/plain": [
       "{'w': array([-1.80329784]),\n",
       " 'b': 0.2595030665226157,\n",
       " 'training_accuracy': 67.70601336302896,\n",
       " 'test_accuracy': 72.0,\n",
       " 'cost': 1.7879916601728347}"
      ]
     },
     "execution_count": 387,
     "metadata": {},
     "output_type": "execute_result"
    },
    {
     "data": {
      "image/png": "[encoded data removed]",
      "text/plain": [
       "<Figure size 432x288 with 2 Axes>"
      ]
     },
     "metadata": {
      "needs_background": "light"
     },
     "output_type": "display_data"
    }
   ],
   "source": [
    "model(X_train, y_train, X_test, y_test, num_iterations=3000, learning_rate=0.001,print_cost=True)"
   ]
  },
  {
   "cell_type": "markdown",
   "metadata": {},
   "source": [
    "### 学习率0.1，迭代次数1000"
   ]
  },
  {
   "cell_type": "code",
   "execution_count": 388,
   "metadata": {},
   "outputs": [
    {
     "name": "stdout",
     "output_type": "stream",
     "text": [
      "Cost after iteration 0: 5.302494\n",
      "Cost after iteration 200: 1.062468\n",
      "Cost after iteration 400: 1.193926\n",
      "Cost after iteration 600: 3.576608\n",
      "Cost after iteration 800: 3.349887\n"
     ]
    },
    {
     "data": {
      "text/plain": [
       "{'w': array([0.27871485]),\n",
       " 'b': 0.7278982854260947,\n",
       " 'training_accuracy': 86.26577579806978,\n",
       " 'test_accuracy': 88.0,\n",
       " 'cost': 0.9851859725372423}"
      ]
     },
     "execution_count": 388,
     "metadata": {},
     "output_type": "execute_result"
    },
    {
     "data": {
      "image/png": "[encoded data removed]",
      "text/plain": [
       "<Figure size 432x288 with 2 Axes>"
      ]
     },
     "metadata": {
      "needs_background": "light"
     },
     "output_type": "display_data"
    }
   ],
   "source": [
    "model(X_train, y_train, X_test, y_test, num_iterations=1000, learning_rate=0.1,print_cost=True)"
   ]
  },
  {
   "cell_type": "markdown",
   "metadata": {},
   "source": [
    "### 超参数变化对结果的影响对比表\n",
    "（貌似数据无法居中?）"
   ]
  },
  {
   "cell_type": "markdown",
   "metadata": {},
   "source": [
    "| num_iteration | learning_rate | training_a | test_a | cost |\n",
    "|:---:|:---:|:---:|:---:|:---:|\n",
    "|1000|0.1|86.27|88.00|0.99|\n",
    "|1000|0.01|70.97|69.56|0.71|\n",
    "|2000|0.01|64.81|66.89|0.49|\n",
    "|3000|0.01|41.65|41.33|0.30|\n",
    "|1000|0.001|56.35|56.22|3.74|\n",
    "|2000|0.001|68.00|70.67|1.86|\n",
    "|3000|0.001|67.71|72.00|1.79|\n"
   ]
  },
  {
   "cell_type": "markdown",
   "metadata": {},
   "source": [
    "### 最后一次试验结论==>\n",
    " - 学习率增加，准确率相对降低，收敛速度快\n",
    " - 学习率高，随迭代次数增加，准确率降低；学习率低，随迭代次数增加，准确率相对升高\n",
    " - 学习率为0.001时，步幅较小，准确率最高所对应的迭代次数在3000以上\n",
    " - 学习率为0.01时，步幅较大，准确率最高所对应的迭代次数大致在500左右\n",
    " - 学习率为0.1时，步幅大，出现震荡，不收敛"
   ]
  },
  {
   "cell_type": "code",
   "execution_count": null,
   "metadata": {},
   "outputs": [],
   "source": []
  }
 ],
 "metadata": {
  "kernelspec": {
   "display_name": "Python 3",
   "language": "python",
   "name": "python3"
  },
  "language_info": {
   "codemirror_mode": {
    "name": "ipython",
    "version": 3
   },
   "file_extension": ".py",
   "mimetype": "text/x-python",
   "name": "python",
   "nbconvert_exporter": "python",
   "pygments_lexer": "ipython3",
   "version": "3.7.3"
  }
 },
 "nbformat": 4,
 "nbformat_minor": 2
}
