{
 "cells": [
  {
   "cell_type": "markdown",
   "metadata": {},
   "source": [
    "#### 1. What does a neuron compute? \n",
    "- 计算若干输入在不同权重下、经过激活函数后的输出结果"
   ]
  },
  {
   "cell_type": "markdown",
   "metadata": {},
   "source": [
    "####  2. Why we use non-linear activation funcitons in neural networks?\n",
    "- 使用线性激活函数，输出是输入的线性表达，输出仍然是线性函数，神经网络的层数加深没有意义，也不能解决非线性问题"
   ]
  },
  {
   "cell_type": "markdown",
   "metadata": {},
   "source": [
    "#### 3. What is the 'Logistic Loss' ?\n",
    "- $ L = -\\frac{1}{m}\\sum{ylog(\\hat y)+(1-y)log(1-\\hat y)} $"
   ]
  },
  {
   "cell_type": "markdown",
   "metadata": {},
   "source": [
    "#### 4. Assume that you are building a binary classifier for detecting if an image containing cats, which activation functions would you recommen using for the output layer ?\n",
    "\n",
    "A. ReLU    \n",
    "B. Leaky ReLU    \n",
    "C. sigmoid    \n",
    "D. tanh  \n",
    "\n",
    "- 二分类输出为是猫的概率，因此选择将函数映射到0-1的激活函数sigmoid"
   ]
  },
  {
   "cell_type": "markdown",
   "metadata": {},
   "source": [
    "#### 5. Why we don't use zero initialization for all parameters ?\n",
    "- 若参数初始值为0，神经网络向前传播的值相同，向后传播的梯度也相同，达不到训练目的"
   ]
  },
  {
   "cell_type": "markdown",
   "metadata": {},
   "source": [
    "#### 6. Can you implement the softmax function using python ? \n",
    "```\n",
    "import numpy as np\n",
    "def softmax(*ele): #输入为若干数值\n",
    "    p = [np.exp(i) for i in ele]/sum([np.exp(i) for i in ele])\n",
    "    return p\n",
    "\n",
    "In:\n",
    "    softmax(2,6,3,5)\n",
    "Out:\n",
    "    [0.012754781742087938,\n",
    "     0.696387487194526,\n",
    "     0.03467109143547884,\n",
    "     0.25618663962790716]\n",
    "```"
   ]
  },
  {
   "cell_type": "code",
   "execution_count": null,
   "metadata": {},
   "outputs": [],
   "source": []
  }
 ],
 "metadata": {
  "kernelspec": {
   "display_name": "Python 3",
   "language": "python",
   "name": "python3"
  },
  "language_info": {
   "codemirror_mode": {
    "name": "ipython",
    "version": 3
   },
   "file_extension": ".py",
   "mimetype": "text/x-python",
   "name": "python",
   "nbconvert_exporter": "python",
   "pygments_lexer": "ipython3",
   "version": "3.7.3"
  }
 },
 "nbformat": 4,
 "nbformat_minor": 2
}
